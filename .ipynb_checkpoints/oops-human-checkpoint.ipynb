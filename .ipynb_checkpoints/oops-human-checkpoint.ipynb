{
 "cells": [
  {
   "cell_type": "code",
   "execution_count": 13,
   "id": "4da6fe4a-4d01-4fff-a2a0-138a4f87ac1d",
   "metadata": {},
   "outputs": [
    {
     "name": "stdout",
     "output_type": "stream",
     "text": [
      "Men's Digestive System:\n",
      "Men Mouth: Chewing and mixing with saliva\n",
      "Men Stomach: Digesting food with gastric juices\n",
      "Men Small Intestine: Absorbing nutrients into the bloodstream\n",
      "Men Large Intestine: Absorbing water and forming feces\n",
      "\n",
      "Women's Digestive System:\n",
      "Women Mouth: Chewing and mixing with saliva\n",
      "Women Stomach: Digesting food with gastric juices\n",
      "Women Small Intestine: Absorbing nutrients into the bloodstream\n",
      "Women Large Intestine: Absorbing water and forming feces\n"
     ]
    }
   ],
   "source": [
    "class Organ:\n",
    "    def __init__(self, name):\n",
    "        self.__name = name\n",
    "\n",
    "    def get_name(self):\n",
    "        return self.__name\n",
    "\n",
    "class Mouth(Organ):\n",
    "    def chewing_food(self):\n",
    "        return \"Chewing and mixing with saliva\"\n",
    "\n",
    "class Stomach(Organ):\n",
    "    def storing_into_stomach(self):\n",
    "        return \"Digesting food with gastric juices\"\n",
    "\n",
    "class SmallIntestine(Organ):\n",
    "    def going_through_small_intestine(self):\n",
    "        return \"Absorbing nutrients into the bloodstream\"\n",
    "\n",
    "class LargeIntestine(Organ):\n",
    "    def going_through_large_intestine(self):\n",
    "        return \"Absorbing water and forming feces\"\n",
    "\n",
    "class DigestiveSystem:\n",
    "    def __init__(self, person_type):\n",
    "        self.mouth = Mouth(f\"{person_type} Mouth\")\n",
    "        self.stomach = Stomach(f\"{person_type} Stomach\")\n",
    "        self.small_intestine = SmallIntestine(f\"{person_type} Small Intestine\")\n",
    "        self.large_intestine = LargeIntestine(f\"{person_type} Large Intestine\")\n",
    "\n",
    "    def process_food(self):\n",
    "        steps = [\n",
    "            self.mouth.chewing_food,\n",
    "            self.stomach.storing_into_stomach,\n",
    "            self.small_intestine.going_through_small_intestine,\n",
    "            self.large_intestine.going_through_large_intestine\n",
    "        ]\n",
    "\n",
    "        for step in steps:\n",
    "            organ_instance = step.__self__\n",
    "            print(f\"{organ_instance.get_name()}: {step()}\")\n",
    "\n",
    "\n",
    "if __name__ == \"__main__\":\n",
    "    men_digestive_system = DigestiveSystem(\"Men\")\n",
    "    women_digestive_system = DigestiveSystem(\"Women\")\n",
    "\n",
    "    print(\"Men's Digestive System:\")\n",
    "    men_digestive_system.process_food()\n",
    "\n",
    "    print(\"\\nWomen's Digestive System:\")\n",
    "    women_digestive_system.process_food()\n"
   ]
  },
  {
   "cell_type": "code",
   "execution_count": null,
   "id": "58df6885-7818-4216-a105-a96f45db6ee3",
   "metadata": {},
   "outputs": [],
   "source": []
  }
 ],
 "metadata": {
  "kernelspec": {
   "display_name": "Python 3 (ipykernel)",
   "language": "python",
   "name": "python3"
  },
  "language_info": {
   "codemirror_mode": {
    "name": "ipython",
    "version": 3
   },
   "file_extension": ".py",
   "mimetype": "text/x-python",
   "name": "python",
   "nbconvert_exporter": "python",
   "pygments_lexer": "ipython3",
   "version": "3.12.0"
  }
 },
 "nbformat": 4,
 "nbformat_minor": 5
}
